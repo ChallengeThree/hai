{
 "cells": [
  {
   "cell_type": "markdown",
   "metadata": {},
   "source": [
    "# Import"
   ]
  },
  {
   "cell_type": "code",
   "execution_count": null,
   "metadata": {},
   "outputs": [
    {
     "name": "stdout",
     "output_type": "stream",
     "text": [
      "Using device: cuda\n"
     ]
    }
   ],
   "source": [
    "import os\n",
    "\n",
    "import pandas as pd\n",
    "import numpy as np\n",
    "\n",
    "from tqdm import tqdm\n",
    "\n",
    "from sklearn.model_selection import train_test_split\n",
    "\n",
    "import torch\n",
    "from torch.utils.data import DataLoader, Subset\n",
    "\n",
    "import torch.nn.functional as F\n",
    "from torch import nn, optim\n",
    "\n",
    "from sklearn.metrics import log_loss\n",
    "\n",
    "device = torch.device(\"cuda\" if torch.cuda.is_available() else \"cpu\")\n",
    "print(\"Using device:\", device)\n",
    "\n",
    "from utils.utils import set_seed\n",
    "from datasets import get_dataset\n",
    "from datasets.transforms import load_transforms_from_yaml\n",
    "from models import get_model"
   ]
  },
  {
   "cell_type": "markdown",
   "metadata": {},
   "source": [
    "# Hyperparameter Setting"
   ]
  },
  {
   "cell_type": "code",
   "execution_count": null,
   "metadata": {},
   "outputs": [],
   "source": [
    "CFG = {\n",
    "    'IMG_SIZE': 224,\n",
    "    'BATCH_SIZE': 64,\n",
    "    'EPOCHS': 50,\n",
    "    'LEARNING_RATE': 1e-4,\n",
    "    'SEED' : 42,\n",
    "    'DATASET' : 'FastImageDataset',\n",
    "    'MODEL': 'Resnet50HeadArc',\n",
    "}\n",
    "\n",
    "DatasetClass = get_dataset(CFG['DATASET'])\n",
    "ModelClass = get_model(CFG['MODEL'])"
   ]
  },
  {
   "cell_type": "markdown",
   "metadata": {},
   "source": [
    "# Fixed RandomSeed"
   ]
  },
  {
   "cell_type": "code",
   "execution_count": 3,
   "metadata": {},
   "outputs": [
    {
     "name": "stdout",
     "output_type": "stream",
     "text": [
      "seed 고정 완료!\n"
     ]
    }
   ],
   "source": [
    "set_seed(CFG['SEED'])"
   ]
  },
  {
   "cell_type": "markdown",
   "metadata": {},
   "source": [
    "# Data Load"
   ]
  },
  {
   "cell_type": "code",
   "execution_count": 4,
   "metadata": {},
   "outputs": [],
   "source": [
    "data_path = './data'\n",
    "train_root = f'{data_path}/train'\n",
    "test_root = f'{data_path}/test'"
   ]
  },
  {
   "cell_type": "code",
   "execution_count": null,
   "metadata": {},
   "outputs": [],
   "source": [
    "train_transform, val_transform = load_transforms_from_yaml('./config/transforms_config.yaml')"
   ]
  },
  {
   "cell_type": "code",
   "execution_count": null,
   "metadata": {},
   "outputs": [
    {
     "name": "stdout",
     "output_type": "stream",
     "text": [
      "총 이미지 수: 33137\n",
      "train 이미지 수: 26509, valid 이미지 수: 6628\n"
     ]
    }
   ],
   "source": [
    "# 전체 데이터셋 로드\n",
    "full_dataset = DatasetClass(train_root, transform=None)\n",
    "print(f\"총 이미지 수: {len(full_dataset)}\")\n",
    "\n",
    "targets = [label for _, label in full_dataset.samples]\n",
    "\n",
    "class_names = full_dataset.classes\n",
    "\n",
    "# Stratified Split\n",
    "train_idx, val_idx = train_test_split(\n",
    "    range(len(targets)), test_size=0.2, stratify=targets, random_state=42\n",
    ")\n",
    "\n",
    "# Subset + transform 각각 적용\n",
    "train_dataset = Subset(DatasetClass(train_root, transform=train_transform), train_idx)\n",
    "val_dataset = Subset(DatasetClass(train_root, transform=val_transform), val_idx)\n",
    "print(f'train 이미지 수: {len(train_dataset)}, valid 이미지 수: {len(val_dataset)}')\n",
    "\n",
    "\n",
    "# DataLoader 정의\n",
    "train_loader = DataLoader(train_dataset, batch_size=CFG['BATCH_SIZE'], shuffle=True, num_workers=os.cpu_count() // 2, pin_memory=True, persistent_workers=True)\n",
    "val_loader = DataLoader(val_dataset, batch_size=CFG['BATCH_SIZE'], shuffle=False, num_workers=os.cpu_count() // 2, pin_memory=True, persistent_workers=True)"
   ]
  },
  {
   "cell_type": "markdown",
   "metadata": {},
   "source": [
    "# Train/ Validation"
   ]
  },
  {
   "cell_type": "code",
   "execution_count": 7,
   "metadata": {},
   "outputs": [
    {
     "name": "stderr",
     "output_type": "stream",
     "text": [
      "[Epoch 1/50] Training: 100%|██████████| 415/415 [01:02<00:00,  6.68it/s]\n",
      "[Epoch 1/50] Validation: 100%|██████████| 104/104 [00:07<00:00, 13.64it/s]\n"
     ]
    },
    {
     "name": "stdout",
     "output_type": "stream",
     "text": [
      "Train Loss : 19.6089 || Valid Loss : 18.2073 | Valid Accuracy : 0.0000%\n",
      "📦 Best model saved at epoch 1 (logloss: 18.2071)\n"
     ]
    },
    {
     "name": "stderr",
     "output_type": "stream",
     "text": [
      "[Epoch 2/50] Training: 100%|██████████| 415/415 [00:58<00:00,  7.09it/s]\n",
      "[Epoch 2/50] Validation: 100%|██████████| 104/104 [00:07<00:00, 14.52it/s]\n"
     ]
    },
    {
     "name": "stdout",
     "output_type": "stream",
     "text": [
      "Train Loss : 16.6134 || Valid Loss : 15.8032 | Valid Accuracy : 0.0000%\n",
      "📦 Best model saved at epoch 2 (logloss: 15.8016)\n"
     ]
    },
    {
     "name": "stderr",
     "output_type": "stream",
     "text": [
      "[Epoch 3/50] Training: 100%|██████████| 415/415 [00:59<00:00,  7.03it/s]\n",
      "[Epoch 3/50] Validation: 100%|██████████| 104/104 [00:07<00:00, 14.65it/s]\n"
     ]
    },
    {
     "name": "stdout",
     "output_type": "stream",
     "text": [
      "Train Loss : 13.9902 || Valid Loss : 13.7481 | Valid Accuracy : 0.6035%\n",
      "📦 Best model saved at epoch 3 (logloss: 13.7450)\n"
     ]
    },
    {
     "name": "stderr",
     "output_type": "stream",
     "text": [
      "[Epoch 4/50] Training: 100%|██████████| 415/415 [00:58<00:00,  7.07it/s]\n",
      "[Epoch 4/50] Validation: 100%|██████████| 104/104 [00:07<00:00, 14.70it/s]\n"
     ]
    },
    {
     "name": "stdout",
     "output_type": "stream",
     "text": [
      "Train Loss : 11.6031 || Valid Loss : 11.8629 | Valid Accuracy : 3.5908%\n",
      "📦 Best model saved at epoch 4 (logloss: 11.8593)\n"
     ]
    },
    {
     "name": "stderr",
     "output_type": "stream",
     "text": [
      "[Epoch 5/50] Training: 100%|██████████| 415/415 [00:58<00:00,  7.04it/s]\n",
      "[Epoch 5/50] Validation: 100%|██████████| 104/104 [00:07<00:00, 14.81it/s]\n"
     ]
    },
    {
     "name": "stdout",
     "output_type": "stream",
     "text": [
      "Train Loss : 9.3978 || Valid Loss : 10.1576 | Valid Accuracy : 8.9469%\n",
      "📦 Best model saved at epoch 5 (logloss: 10.1536)\n"
     ]
    },
    {
     "name": "stderr",
     "output_type": "stream",
     "text": [
      "[Epoch 6/50] Training: 100%|██████████| 415/415 [00:58<00:00,  7.07it/s]\n",
      "[Epoch 6/50] Validation: 100%|██████████| 104/104 [00:07<00:00, 14.61it/s]\n"
     ]
    },
    {
     "name": "stdout",
     "output_type": "stream",
     "text": [
      "Train Loss : 7.3710 || Valid Loss : 8.6276 | Valid Accuracy : 17.0187%\n",
      "📦 Best model saved at epoch 6 (logloss: 8.6215)\n"
     ]
    },
    {
     "name": "stderr",
     "output_type": "stream",
     "text": [
      "[Epoch 7/50] Training: 100%|██████████| 415/415 [00:59<00:00,  7.01it/s]\n",
      "[Epoch 7/50] Validation: 100%|██████████| 104/104 [00:07<00:00, 14.61it/s]\n"
     ]
    },
    {
     "name": "stdout",
     "output_type": "stream",
     "text": [
      "Train Loss : 5.5540 || Valid Loss : 7.3951 | Valid Accuracy : 25.4074%\n",
      "📦 Best model saved at epoch 7 (logloss: 7.3887)\n"
     ]
    },
    {
     "name": "stderr",
     "output_type": "stream",
     "text": [
      "[Epoch 8/50] Training: 100%|██████████| 415/415 [00:58<00:00,  7.06it/s]\n",
      "[Epoch 8/50] Validation: 100%|██████████| 104/104 [00:07<00:00, 14.77it/s]\n"
     ]
    },
    {
     "name": "stdout",
     "output_type": "stream",
     "text": [
      "Train Loss : 4.0194 || Valid Loss : 6.3496 | Valid Accuracy : 33.5244%\n",
      "📦 Best model saved at epoch 8 (logloss: 6.3417)\n"
     ]
    },
    {
     "name": "stderr",
     "output_type": "stream",
     "text": [
      "[Epoch 9/50] Training: 100%|██████████| 415/415 [00:58<00:00,  7.05it/s]\n",
      "[Epoch 9/50] Validation: 100%|██████████| 104/104 [00:07<00:00, 14.56it/s]\n"
     ]
    },
    {
     "name": "stdout",
     "output_type": "stream",
     "text": [
      "Train Loss : 2.7419 || Valid Loss : 5.6164 | Valid Accuracy : 41.0531%\n",
      "📦 Best model saved at epoch 9 (logloss: 5.6100)\n"
     ]
    },
    {
     "name": "stderr",
     "output_type": "stream",
     "text": [
      "[Epoch 10/50] Training: 100%|██████████| 415/415 [00:58<00:00,  7.04it/s]\n",
      "[Epoch 10/50] Validation: 100%|██████████| 104/104 [00:07<00:00, 14.62it/s]\n"
     ]
    },
    {
     "name": "stdout",
     "output_type": "stream",
     "text": [
      "Train Loss : 1.7798 || Valid Loss : 5.0342 | Valid Accuracy : 46.5751%\n",
      "📦 Best model saved at epoch 10 (logloss: 5.0257)\n"
     ]
    },
    {
     "name": "stderr",
     "output_type": "stream",
     "text": [
      "[Epoch 11/50] Training: 100%|██████████| 415/415 [00:58<00:00,  7.04it/s]\n",
      "[Epoch 11/50] Validation: 100%|██████████| 104/104 [00:07<00:00, 14.74it/s]\n"
     ]
    },
    {
     "name": "stdout",
     "output_type": "stream",
     "text": [
      "Train Loss : 1.0875 || Valid Loss : 4.7021 | Valid Accuracy : 49.9396%\n",
      "📦 Best model saved at epoch 11 (logloss: 4.6934)\n"
     ]
    },
    {
     "name": "stderr",
     "output_type": "stream",
     "text": [
      "[Epoch 12/50] Training: 100%|██████████| 415/415 [00:59<00:00,  7.03it/s]\n",
      "[Epoch 12/50] Validation: 100%|██████████| 104/104 [00:07<00:00, 14.55it/s]\n"
     ]
    },
    {
     "name": "stdout",
     "output_type": "stream",
     "text": [
      "Train Loss : 0.6396 || Valid Loss : 4.4118 | Valid Accuracy : 53.5456%\n",
      "📦 Best model saved at epoch 12 (logloss: 4.4035)\n"
     ]
    },
    {
     "name": "stderr",
     "output_type": "stream",
     "text": [
      "[Epoch 13/50] Training: 100%|██████████| 415/415 [00:59<00:00,  7.01it/s]\n",
      "[Epoch 13/50] Validation: 100%|██████████| 104/104 [00:07<00:00, 14.54it/s]\n"
     ]
    },
    {
     "name": "stdout",
     "output_type": "stream",
     "text": [
      "Train Loss : 0.3791 || Valid Loss : 4.2390 | Valid Accuracy : 55.1448%\n",
      "📦 Best model saved at epoch 13 (logloss: 4.2321)\n"
     ]
    },
    {
     "name": "stderr",
     "output_type": "stream",
     "text": [
      "[Epoch 14/50] Training: 100%|██████████| 415/415 [00:58<00:00,  7.05it/s]\n",
      "[Epoch 14/50] Validation: 100%|██████████| 104/104 [00:07<00:00, 14.78it/s]\n"
     ]
    },
    {
     "name": "stdout",
     "output_type": "stream",
     "text": [
      "Train Loss : 0.2220 || Valid Loss : 4.0854 | Valid Accuracy : 57.2571%\n",
      "📦 Best model saved at epoch 14 (logloss: 4.0766)\n"
     ]
    },
    {
     "name": "stderr",
     "output_type": "stream",
     "text": [
      "[Epoch 15/50] Training: 100%|██████████| 415/415 [00:59<00:00,  7.01it/s]\n",
      "[Epoch 15/50] Validation: 100%|██████████| 104/104 [00:07<00:00, 14.47it/s]\n"
     ]
    },
    {
     "name": "stdout",
     "output_type": "stream",
     "text": [
      "Train Loss : 0.1381 || Valid Loss : 3.9713 | Valid Accuracy : 58.9167%\n",
      "📦 Best model saved at epoch 15 (logloss: 3.9630)\n"
     ]
    },
    {
     "name": "stderr",
     "output_type": "stream",
     "text": [
      "[Epoch 16/50] Training: 100%|██████████| 415/415 [00:58<00:00,  7.06it/s]\n",
      "[Epoch 16/50] Validation: 100%|██████████| 104/104 [00:07<00:00, 14.50it/s]\n"
     ]
    },
    {
     "name": "stdout",
     "output_type": "stream",
     "text": [
      "Train Loss : 0.0916 || Valid Loss : 3.8780 | Valid Accuracy : 60.2142%\n",
      "📦 Best model saved at epoch 16 (logloss: 3.8693)\n"
     ]
    },
    {
     "name": "stderr",
     "output_type": "stream",
     "text": [
      "[Epoch 17/50] Training: 100%|██████████| 415/415 [00:58<00:00,  7.07it/s]\n",
      "[Epoch 17/50] Validation: 100%|██████████| 104/104 [00:07<00:00, 14.64it/s]\n"
     ]
    },
    {
     "name": "stdout",
     "output_type": "stream",
     "text": [
      "Train Loss : 0.0582 || Valid Loss : 3.8276 | Valid Accuracy : 61.1949%\n",
      "📦 Best model saved at epoch 17 (logloss: 3.8192)\n"
     ]
    },
    {
     "name": "stderr",
     "output_type": "stream",
     "text": [
      "[Epoch 18/50] Training: 100%|██████████| 415/415 [00:59<00:00,  7.02it/s]\n",
      "[Epoch 18/50] Validation: 100%|██████████| 104/104 [00:07<00:00, 14.69it/s]\n"
     ]
    },
    {
     "name": "stdout",
     "output_type": "stream",
     "text": [
      "Train Loss : 0.0507 || Valid Loss : 3.7795 | Valid Accuracy : 61.9040%\n",
      "📦 Best model saved at epoch 18 (logloss: 3.7717)\n"
     ]
    },
    {
     "name": "stderr",
     "output_type": "stream",
     "text": [
      "[Epoch 19/50] Training: 100%|██████████| 415/415 [00:58<00:00,  7.06it/s]\n",
      "[Epoch 19/50] Validation: 100%|██████████| 104/104 [00:07<00:00, 14.56it/s]\n"
     ]
    },
    {
     "name": "stdout",
     "output_type": "stream",
     "text": [
      "Train Loss : 0.0643 || Valid Loss : 3.8047 | Valid Accuracy : 62.3114%\n"
     ]
    },
    {
     "name": "stderr",
     "output_type": "stream",
     "text": [
      "[Epoch 20/50] Training: 100%|██████████| 415/415 [00:58<00:00,  7.04it/s]\n",
      "[Epoch 20/50] Validation: 100%|██████████| 104/104 [00:07<00:00, 14.42it/s]\n"
     ]
    },
    {
     "name": "stdout",
     "output_type": "stream",
     "text": [
      "Train Loss : 0.0699 || Valid Loss : 3.7811 | Valid Accuracy : 62.8244%\n",
      "📦 Best model saved at epoch 20 (logloss: 3.7709)\n"
     ]
    },
    {
     "name": "stderr",
     "output_type": "stream",
     "text": [
      "[Epoch 21/50] Training: 100%|██████████| 415/415 [00:59<00:00,  7.01it/s]\n",
      "[Epoch 21/50] Validation: 100%|██████████| 104/104 [00:07<00:00, 14.61it/s]\n"
     ]
    },
    {
     "name": "stdout",
     "output_type": "stream",
     "text": [
      "Train Loss : 0.0659 || Valid Loss : 3.7665 | Valid Accuracy : 63.5184%\n",
      "📦 Best model saved at epoch 21 (logloss: 3.7567)\n"
     ]
    },
    {
     "name": "stderr",
     "output_type": "stream",
     "text": [
      "[Epoch 22/50] Training: 100%|██████████| 415/415 [00:58<00:00,  7.04it/s]\n",
      "[Epoch 22/50] Validation: 100%|██████████| 104/104 [00:07<00:00, 14.57it/s]\n"
     ]
    },
    {
     "name": "stdout",
     "output_type": "stream",
     "text": [
      "Train Loss : 0.0468 || Valid Loss : 3.5974 | Valid Accuracy : 65.1780%\n",
      "📦 Best model saved at epoch 22 (logloss: 3.5881)\n"
     ]
    },
    {
     "name": "stderr",
     "output_type": "stream",
     "text": [
      "[Epoch 23/50] Training: 100%|██████████| 415/415 [00:58<00:00,  7.04it/s]\n",
      "[Epoch 23/50] Validation: 100%|██████████| 104/104 [00:07<00:00, 14.67it/s]\n"
     ]
    },
    {
     "name": "stdout",
     "output_type": "stream",
     "text": [
      "Train Loss : 0.0378 || Valid Loss : 3.5664 | Valid Accuracy : 65.8871%\n",
      "📦 Best model saved at epoch 23 (logloss: 3.5569)\n"
     ]
    },
    {
     "name": "stderr",
     "output_type": "stream",
     "text": [
      "[Epoch 24/50] Training: 100%|██████████| 415/415 [00:58<00:00,  7.04it/s]\n",
      "[Epoch 24/50] Validation: 100%|██████████| 104/104 [00:07<00:00, 14.62it/s]\n"
     ]
    },
    {
     "name": "stdout",
     "output_type": "stream",
     "text": [
      "Train Loss : 0.0219 || Valid Loss : 3.5082 | Valid Accuracy : 66.0682%\n",
      "📦 Best model saved at epoch 24 (logloss: 3.4997)\n"
     ]
    },
    {
     "name": "stderr",
     "output_type": "stream",
     "text": [
      "[Epoch 25/50] Training: 100%|██████████| 415/415 [00:58<00:00,  7.04it/s]\n",
      "[Epoch 25/50] Validation: 100%|██████████| 104/104 [00:07<00:00, 14.55it/s]\n"
     ]
    },
    {
     "name": "stdout",
     "output_type": "stream",
     "text": [
      "Train Loss : 0.0387 || Valid Loss : 3.5647 | Valid Accuracy : 65.9173%\n"
     ]
    },
    {
     "name": "stderr",
     "output_type": "stream",
     "text": [
      "[Epoch 26/50] Training: 100%|██████████| 415/415 [00:58<00:00,  7.05it/s]\n",
      "[Epoch 26/50] Validation: 100%|██████████| 104/104 [00:07<00:00, 14.54it/s]\n"
     ]
    },
    {
     "name": "stdout",
     "output_type": "stream",
     "text": [
      "Train Loss : 0.0327 || Valid Loss : 3.5281 | Valid Accuracy : 66.8829%\n"
     ]
    },
    {
     "name": "stderr",
     "output_type": "stream",
     "text": [
      "[Epoch 27/50] Training: 100%|██████████| 415/415 [00:59<00:00,  7.00it/s]\n",
      "[Epoch 27/50] Validation: 100%|██████████| 104/104 [00:07<00:00, 14.68it/s]\n"
     ]
    },
    {
     "name": "stdout",
     "output_type": "stream",
     "text": [
      "Train Loss : 0.0491 || Valid Loss : 3.5677 | Valid Accuracy : 67.0489%\n"
     ]
    },
    {
     "name": "stderr",
     "output_type": "stream",
     "text": [
      "[Epoch 28/50] Training: 100%|██████████| 415/415 [00:58<00:00,  7.05it/s]\n",
      "[Epoch 28/50] Validation: 100%|██████████| 104/104 [00:07<00:00, 14.57it/s]\n"
     ]
    },
    {
     "name": "stdout",
     "output_type": "stream",
     "text": [
      "Train Loss : 0.0554 || Valid Loss : 3.5055 | Valid Accuracy : 67.1092%\n",
      "📦 Best model saved at epoch 28 (logloss: 3.4936)\n"
     ]
    },
    {
     "name": "stderr",
     "output_type": "stream",
     "text": [
      "[Epoch 29/50] Training: 100%|██████████| 415/415 [00:59<00:00,  7.02it/s]\n",
      "[Epoch 29/50] Validation: 100%|██████████| 104/104 [00:07<00:00, 14.59it/s]\n"
     ]
    },
    {
     "name": "stdout",
     "output_type": "stream",
     "text": [
      "Train Loss : 0.0325 || Valid Loss : 3.5442 | Valid Accuracy : 67.1696%\n"
     ]
    },
    {
     "name": "stderr",
     "output_type": "stream",
     "text": [
      "[Epoch 30/50] Training: 100%|██████████| 415/415 [00:59<00:00,  7.03it/s]\n",
      "[Epoch 30/50] Validation: 100%|██████████| 104/104 [00:07<00:00, 14.53it/s]\n"
     ]
    },
    {
     "name": "stdout",
     "output_type": "stream",
     "text": [
      "Train Loss : 0.0309 || Valid Loss : 3.4383 | Valid Accuracy : 68.0597%\n",
      "📦 Best model saved at epoch 30 (logloss: 3.4324)\n"
     ]
    },
    {
     "name": "stderr",
     "output_type": "stream",
     "text": [
      "[Epoch 31/50] Training: 100%|██████████| 415/415 [00:58<00:00,  7.06it/s]\n",
      "[Epoch 31/50] Validation: 100%|██████████| 104/104 [00:07<00:00, 14.48it/s]\n"
     ]
    },
    {
     "name": "stdout",
     "output_type": "stream",
     "text": [
      "Train Loss : 0.0131 || Valid Loss : 3.3097 | Valid Accuracy : 69.8702%\n",
      "📦 Best model saved at epoch 31 (logloss: 3.3001)\n"
     ]
    },
    {
     "name": "stderr",
     "output_type": "stream",
     "text": [
      "[Epoch 32/50] Training: 100%|██████████| 415/415 [00:59<00:00,  7.00it/s]\n",
      "[Epoch 32/50] Validation: 100%|██████████| 104/104 [00:07<00:00, 14.70it/s]\n"
     ]
    },
    {
     "name": "stdout",
     "output_type": "stream",
     "text": [
      "Train Loss : 0.0131 || Valid Loss : 3.2421 | Valid Accuracy : 70.4737%\n",
      "📦 Best model saved at epoch 32 (logloss: 3.2330)\n"
     ]
    },
    {
     "name": "stderr",
     "output_type": "stream",
     "text": [
      "[Epoch 33/50] Training: 100%|██████████| 415/415 [00:58<00:00,  7.08it/s]\n",
      "[Epoch 33/50] Validation: 100%|██████████| 104/104 [00:07<00:00, 14.48it/s]\n"
     ]
    },
    {
     "name": "stdout",
     "output_type": "stream",
     "text": [
      "Train Loss : 0.0254 || Valid Loss : 3.5287 | Valid Accuracy : 68.1804%\n"
     ]
    },
    {
     "name": "stderr",
     "output_type": "stream",
     "text": [
      "[Epoch 34/50] Training: 100%|██████████| 415/415 [00:58<00:00,  7.07it/s]\n",
      "[Epoch 34/50] Validation: 100%|██████████| 104/104 [00:07<00:00, 14.69it/s]\n"
     ]
    },
    {
     "name": "stdout",
     "output_type": "stream",
     "text": [
      "Train Loss : 0.0402 || Valid Loss : 3.3984 | Valid Accuracy : 69.4327%\n"
     ]
    },
    {
     "name": "stderr",
     "output_type": "stream",
     "text": [
      "[Epoch 35/50] Training: 100%|██████████| 415/415 [00:59<00:00,  7.01it/s]\n",
      "[Epoch 35/50] Validation: 100%|██████████| 104/104 [00:07<00:00, 14.55it/s]\n"
     ]
    },
    {
     "name": "stdout",
     "output_type": "stream",
     "text": [
      "Train Loss : 0.0236 || Valid Loss : 3.3141 | Valid Accuracy : 69.9608%\n"
     ]
    },
    {
     "name": "stderr",
     "output_type": "stream",
     "text": [
      "[Epoch 36/50] Training: 100%|██████████| 415/415 [00:59<00:00,  7.03it/s]\n",
      "[Epoch 36/50] Validation: 100%|██████████| 104/104 [00:07<00:00, 14.64it/s]\n"
     ]
    },
    {
     "name": "stdout",
     "output_type": "stream",
     "text": [
      "Train Loss : 0.0298 || Valid Loss : 3.4764 | Valid Accuracy : 68.3766%\n"
     ]
    },
    {
     "name": "stderr",
     "output_type": "stream",
     "text": [
      "[Epoch 37/50] Training: 100%|██████████| 415/415 [00:58<00:00,  7.04it/s]\n",
      "[Epoch 37/50] Validation: 100%|██████████| 104/104 [00:07<00:00, 14.61it/s]\n"
     ]
    },
    {
     "name": "stdout",
     "output_type": "stream",
     "text": [
      "Train Loss : 0.0449 || Valid Loss : 3.4705 | Valid Accuracy : 68.8896%\n"
     ]
    },
    {
     "name": "stderr",
     "output_type": "stream",
     "text": [
      "[Epoch 38/50] Training: 100%|██████████| 415/415 [00:58<00:00,  7.06it/s]\n",
      "[Epoch 38/50] Validation: 100%|██████████| 104/104 [00:07<00:00, 14.65it/s]\n"
     ]
    },
    {
     "name": "stdout",
     "output_type": "stream",
     "text": [
      "Train Loss : 0.0234 || Valid Loss : 3.2060 | Valid Accuracy : 71.1979%\n",
      "📦 Best model saved at epoch 38 (logloss: 3.1982)\n"
     ]
    },
    {
     "name": "stderr",
     "output_type": "stream",
     "text": [
      "[Epoch 39/50] Training: 100%|██████████| 415/415 [00:58<00:00,  7.04it/s]\n",
      "[Epoch 39/50] Validation: 100%|██████████| 104/104 [00:07<00:00, 14.56it/s]\n"
     ]
    },
    {
     "name": "stdout",
     "output_type": "stream",
     "text": [
      "Train Loss : 0.0120 || Valid Loss : 3.2062 | Valid Accuracy : 71.9071%\n"
     ]
    },
    {
     "name": "stderr",
     "output_type": "stream",
     "text": [
      "[Epoch 40/50] Training: 100%|██████████| 415/415 [00:58<00:00,  7.06it/s]\n",
      "[Epoch 40/50] Validation: 100%|██████████| 104/104 [00:07<00:00, 14.75it/s]\n"
     ]
    },
    {
     "name": "stdout",
     "output_type": "stream",
     "text": [
      "Train Loss : 0.0108 || Valid Loss : 3.1554 | Valid Accuracy : 72.5106%\n",
      "📦 Best model saved at epoch 40 (logloss: 3.1460)\n"
     ]
    },
    {
     "name": "stderr",
     "output_type": "stream",
     "text": [
      "[Epoch 41/50] Training: 100%|██████████| 415/415 [00:59<00:00,  7.02it/s]\n",
      "[Epoch 41/50] Validation: 100%|██████████| 104/104 [00:07<00:00, 14.62it/s]\n"
     ]
    },
    {
     "name": "stdout",
     "output_type": "stream",
     "text": [
      "Train Loss : 0.0129 || Valid Loss : 3.1119 | Valid Accuracy : 72.9934%\n",
      "📦 Best model saved at epoch 41 (logloss: 3.1029)\n"
     ]
    },
    {
     "name": "stderr",
     "output_type": "stream",
     "text": [
      "[Epoch 42/50] Training: 100%|██████████| 415/415 [00:59<00:00,  7.03it/s]\n",
      "[Epoch 42/50] Validation: 100%|██████████| 104/104 [00:07<00:00, 14.54it/s]\n"
     ]
    },
    {
     "name": "stdout",
     "output_type": "stream",
     "text": [
      "Train Loss : 0.0281 || Valid Loss : 3.2585 | Valid Accuracy : 71.8618%\n"
     ]
    },
    {
     "name": "stderr",
     "output_type": "stream",
     "text": [
      "[Epoch 43/50] Training: 100%|██████████| 415/415 [00:58<00:00,  7.05it/s]\n",
      "[Epoch 43/50] Validation: 100%|██████████| 104/104 [00:07<00:00, 14.61it/s]\n"
     ]
    },
    {
     "name": "stdout",
     "output_type": "stream",
     "text": [
      "Train Loss : 0.0467 || Valid Loss : 3.3090 | Valid Accuracy : 70.6548%\n"
     ]
    },
    {
     "name": "stderr",
     "output_type": "stream",
     "text": [
      "[Epoch 44/50] Training: 100%|██████████| 415/415 [00:59<00:00,  7.01it/s]\n",
      "[Epoch 44/50] Validation: 100%|██████████| 104/104 [00:07<00:00, 14.65it/s]\n"
     ]
    },
    {
     "name": "stdout",
     "output_type": "stream",
     "text": [
      "Train Loss : 0.0263 || Valid Loss : 3.1644 | Valid Accuracy : 72.3748%\n"
     ]
    },
    {
     "name": "stderr",
     "output_type": "stream",
     "text": [
      "[Epoch 45/50] Training: 100%|██████████| 415/415 [00:59<00:00,  7.03it/s]\n",
      "[Epoch 45/50] Validation: 100%|██████████| 104/104 [00:07<00:00, 14.63it/s]\n"
     ]
    },
    {
     "name": "stdout",
     "output_type": "stream",
     "text": [
      "Train Loss : 0.0184 || Valid Loss : 3.1938 | Valid Accuracy : 72.3295%\n"
     ]
    },
    {
     "name": "stderr",
     "output_type": "stream",
     "text": [
      "[Epoch 46/50] Training: 100%|██████████| 415/415 [00:59<00:00,  7.03it/s]\n",
      "[Epoch 46/50] Validation: 100%|██████████| 104/104 [00:07<00:00, 14.57it/s]\n"
     ]
    },
    {
     "name": "stdout",
     "output_type": "stream",
     "text": [
      "Train Loss : 0.0239 || Valid Loss : 3.1755 | Valid Accuracy : 73.1895%\n"
     ]
    },
    {
     "name": "stderr",
     "output_type": "stream",
     "text": [
      "[Epoch 47/50] Training: 100%|██████████| 415/415 [00:58<00:00,  7.04it/s]\n",
      "[Epoch 47/50] Validation: 100%|██████████| 104/104 [00:07<00:00, 14.72it/s]\n"
     ]
    },
    {
     "name": "stdout",
     "output_type": "stream",
     "text": [
      "Train Loss : 0.0252 || Valid Loss : 3.2722 | Valid Accuracy : 72.0127%\n"
     ]
    },
    {
     "name": "stderr",
     "output_type": "stream",
     "text": [
      "[Epoch 48/50] Training: 100%|██████████| 415/415 [00:59<00:00,  7.01it/s]\n",
      "[Epoch 48/50] Validation: 100%|██████████| 104/104 [00:07<00:00, 14.70it/s]\n"
     ]
    },
    {
     "name": "stdout",
     "output_type": "stream",
     "text": [
      "Train Loss : 0.0243 || Valid Loss : 3.1419 | Valid Accuracy : 73.3705%\n"
     ]
    },
    {
     "name": "stderr",
     "output_type": "stream",
     "text": [
      "[Epoch 49/50] Training: 100%|██████████| 415/415 [00:59<00:00,  7.03it/s]\n",
      "[Epoch 49/50] Validation: 100%|██████████| 104/104 [00:07<00:00, 14.74it/s]\n"
     ]
    },
    {
     "name": "stdout",
     "output_type": "stream",
     "text": [
      "Train Loss : 0.0216 || Valid Loss : 3.1351 | Valid Accuracy : 74.2758%\n"
     ]
    },
    {
     "name": "stderr",
     "output_type": "stream",
     "text": [
      "[Epoch 50/50] Training: 100%|██████████| 415/415 [00:59<00:00,  7.01it/s]\n",
      "[Epoch 50/50] Validation: 100%|██████████| 104/104 [00:07<00:00, 14.56it/s]\n"
     ]
    },
    {
     "name": "stdout",
     "output_type": "stream",
     "text": [
      "Train Loss : 0.0156 || Valid Loss : 3.0713 | Valid Accuracy : 74.5323%\n",
      "📦 Best model saved at epoch 50 (logloss: 3.0590)\n"
     ]
    }
   ],
   "source": [
    "model = ModelClass(num_classes=len(class_names)).to(device)\n",
    "best_logloss = float('inf')\n",
    "\n",
    "# 손실 함수\n",
    "criterion = nn.CrossEntropyLoss()\n",
    "\n",
    "# 옵티마이저\n",
    "optimizer = optim.Adam(model.parameters(), lr=CFG['LEARNING_RATE'])\n",
    "\n",
    "# 학습 및 검증 루프\n",
    "for epoch in range(CFG['EPOCHS']):\n",
    "    # Train\n",
    "    model.train()\n",
    "    train_loss = 0.0\n",
    "    for images, labels in tqdm(train_loader, desc=f\"[Epoch {epoch+1}/{CFG['EPOCHS']}] Training\"):\n",
    "        images, labels = images.to(device), labels.to(device)\n",
    "        optimizer.zero_grad()\n",
    "        if CFG[\"MODEL\"] != \"Resnet50HeadArc\":\n",
    "            outputs = model(images)  # logits\n",
    "        else:\n",
    "            outputs = model(images, labels)\n",
    "        loss = criterion(outputs, labels)\n",
    "        loss.backward()\n",
    "        optimizer.step()\n",
    "        train_loss += loss.item()\n",
    "\n",
    "    avg_train_loss = train_loss / len(train_loader)\n",
    "\n",
    "    # Validation\n",
    "    model.eval()\n",
    "    val_loss = 0.0\n",
    "    correct = 0\n",
    "    total = 0\n",
    "    all_probs = []\n",
    "    all_labels = []\n",
    "\n",
    "    with torch.no_grad():\n",
    "        for images, labels in tqdm(val_loader, desc=f\"[Epoch {epoch+1}/{CFG['EPOCHS']}] Validation\"):\n",
    "            images, labels = images.to(device), labels.to(device)\n",
    "            if CFG[\"MODEL\"] != \"Resnet50HeadArc\":\n",
    "                outputs = model(images)\n",
    "            else:\n",
    "                outputs = model(images, labels)\n",
    "            loss = criterion(outputs, labels)\n",
    "            val_loss += loss.item()\n",
    "\n",
    "            # Accuracy\n",
    "            _, preds = torch.max(outputs, 1)\n",
    "            correct += (preds == labels).sum().item()\n",
    "            total += labels.size(0)\n",
    "\n",
    "            # LogLoss\n",
    "            probs = F.softmax(outputs, dim=1)\n",
    "            all_probs.extend(probs.cpu().numpy())\n",
    "            all_labels.extend(labels.cpu().numpy())\n",
    "\n",
    "    avg_val_loss = val_loss / len(val_loader)\n",
    "    val_accuracy = 100 * correct / total\n",
    "    val_logloss = log_loss(all_labels, all_probs, labels=list(range(len(class_names))))\n",
    "\n",
    "    # 결과 출력\n",
    "    print(f\"Train Loss : {avg_train_loss:.4f} || Valid Loss : {avg_val_loss:.4f} | Valid Accuracy : {val_accuracy:.4f}%\")\n",
    "\n",
    "    # Best model 저장\n",
    "    if val_logloss < best_logloss:\n",
    "        best_logloss = val_logloss\n",
    "        torch.save(model.state_dict(), f'best_model.pth')\n",
    "        print(f\"📦 Best model saved at epoch {epoch+1} (logloss: {val_logloss:.4f})\")"
   ]
  },
  {
   "cell_type": "markdown",
   "metadata": {},
   "source": [
    "# Inference"
   ]
  },
  {
   "cell_type": "code",
   "execution_count": 8,
   "metadata": {},
   "outputs": [],
   "source": [
    "test_dataset = DatasetClass(test_root, transform=val_transform, is_test=True)\n",
    "test_loader = DataLoader(test_dataset, batch_size=CFG['BATCH_SIZE'], shuffle=False)"
   ]
  },
  {
   "cell_type": "code",
   "execution_count": 9,
   "metadata": {},
   "outputs": [],
   "source": [
    "# 저장된 모델 로드\n",
    "model = ModelClass(num_classes=len(class_names))\n",
    "model.load_state_dict(torch.load('best_model.pth', map_location=device))\n",
    "model.to(device)\n",
    "\n",
    "# 추론\n",
    "model.eval()\n",
    "results = []\n",
    "\n",
    "with torch.no_grad():\n",
    "    for images in test_loader:\n",
    "        images = images.to(device)\n",
    "        outputs = model(images)\n",
    "        probs = F.softmax(outputs, dim=1)\n",
    "\n",
    "        # 각 배치의 확률을 리스트로 변환\n",
    "        for prob in probs.cpu():  # prob: (num_classes,)\n",
    "            result = {\n",
    "                class_names[i]: prob[i].item()\n",
    "                for i in range(len(class_names))\n",
    "            }\n",
    "            results.append(result)\n",
    "            \n",
    "pred = pd.DataFrame(results)"
   ]
  },
  {
   "cell_type": "markdown",
   "metadata": {},
   "source": [
    "# Submission"
   ]
  },
  {
   "cell_type": "code",
   "execution_count": 10,
   "metadata": {},
   "outputs": [],
   "source": [
    "submission = pd.read_csv(f'{data_path}/sample_submission.csv', encoding='utf-8-sig')\n",
    "\n",
    "# 'ID' 컬럼을 제외한 클래스 컬럼 정렬\n",
    "class_columns = submission.columns[1:]\n",
    "pred = pred[class_columns]\n",
    "\n",
    "submission[class_columns] = pred.values\n",
    "submission.to_csv('baseline_submission.csv', index=False, encoding='utf-8-sig')"
   ]
  },
  {
   "cell_type": "code",
   "execution_count": null,
   "metadata": {},
   "outputs": [],
   "source": []
  }
 ],
 "metadata": {
  "kernelspec": {
   "display_name": "base",
   "language": "python",
   "name": "python3"
  },
  "language_info": {
   "codemirror_mode": {
    "name": "ipython",
    "version": 3
   },
   "file_extension": ".py",
   "mimetype": "text/x-python",
   "name": "python",
   "nbconvert_exporter": "python",
   "pygments_lexer": "ipython3",
   "version": "3.10.13"
  }
 },
 "nbformat": 4,
 "nbformat_minor": 2
}
