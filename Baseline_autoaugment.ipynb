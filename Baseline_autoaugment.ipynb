{
 "cells": [
  {
   "cell_type": "markdown",
   "metadata": {},
   "source": [
    "# Import"
   ]
  },
  {
   "cell_type": "code",
   "execution_count": 1,
   "metadata": {},
   "outputs": [
    {
     "name": "stdout",
     "output_type": "stream",
     "text": [
      "Using device: cuda\n"
     ]
    },
    {
     "name": "stderr",
     "output_type": "stream",
     "text": [
      "c:\\Users\\fkjy1\\anaconda3\\envs\\hai\\Lib\\site-packages\\tqdm\\auto.py:21: TqdmWarning: IProgress not found. Please update jupyter and ipywidgets. See https://ipywidgets.readthedocs.io/en/stable/user_install.html\n",
      "  from .autonotebook import tqdm as notebook_tqdm\n"
     ]
    }
   ],
   "source": [
    "import os\n",
    "\n",
    "import pandas as pd\n",
    "import numpy as np\n",
    "\n",
    "from tqdm import tqdm\n",
    "\n",
    "from sklearn.model_selection import train_test_split\n",
    "\n",
    "import torch\n",
    "from torch.utils.data import DataLoader, Subset\n",
    "\n",
    "import torch.nn.functional as F\n",
    "from torch import nn, optim\n",
    "\n",
    "from sklearn.metrics import log_loss\n",
    "\n",
    "device = torch.device(\"cuda\" if torch.cuda.is_available() else \"cpu\")\n",
    "print(\"Using device:\", device)\n",
    "\n",
    "from config.config import load_config\n",
    "from utils.utils import *\n",
    "from datasets import get_dataset\n",
    "from datasets.transforms import build_transforms\n",
    "from models import get_model\n",
    "from trainer.training import training\n",
    "from trainer.evaluation import evaluation\n",
    "from trainer.train_loop import training_loop\n",
    "from utils.EarlyStopping import EarlyStopping\n",
    "from utils.scheduler_factory import get_scheduler"
   ]
  },
  {
   "cell_type": "markdown",
   "metadata": {},
   "source": [
    "# Hyperparameter Setting"
   ]
  },
  {
   "cell_type": "code",
   "execution_count": 2,
   "metadata": {},
   "outputs": [],
   "source": [
    "cfg = load_config(\"config/main_config.yaml\")\n",
    "train_transform, val_transform = build_transforms(cfg[\"transforms\"][\"train\"]), build_transforms(cfg[\"transforms\"][\"val\"])\n",
    "\n",
    "DatasetClass = get_dataset(cfg['DATASET'])\n",
    "ModelClass = get_model(cfg['MODEL'])\n",
    "cfg_scheduler = cfg[\"scheduler\"]"
   ]
  },
  {
   "cell_type": "markdown",
   "metadata": {},
   "source": [
    "# Fixed RandomSeed"
   ]
  },
  {
   "cell_type": "code",
   "execution_count": 3,
   "metadata": {},
   "outputs": [
    {
     "name": "stdout",
     "output_type": "stream",
     "text": [
      "seed 고정 완료!\n"
     ]
    }
   ],
   "source": [
    "set_seed(cfg['SEED'])"
   ]
  },
  {
   "cell_type": "markdown",
   "metadata": {},
   "source": [
    "# Data Load"
   ]
  },
  {
   "cell_type": "code",
   "execution_count": 4,
   "metadata": {},
   "outputs": [
    {
     "name": "stdout",
     "output_type": "stream",
     "text": [
      "폴더 확인 완료!!\n"
     ]
    }
   ],
   "source": [
    "data_path = './data'\n",
    "train_root = f'{data_path}/train'\n",
    "test_root = f'{data_path}/test'\n",
    "output_root = './output'\n",
    "makedirs(output_root)"
   ]
  },
  {
   "cell_type": "code",
   "execution_count": 5,
   "metadata": {},
   "outputs": [
    {
     "name": "stdout",
     "output_type": "stream",
     "text": [
      "총 이미지 수: 33137\n",
      "train 이미지 수: 26509, valid 이미지 수: 6628\n"
     ]
    }
   ],
   "source": [
    "# 전체 데이터셋 로드\n",
    "full_dataset = DatasetClass(train_root, transform=None)\n",
    "print(f\"총 이미지 수: {len(full_dataset)}\")\n",
    "\n",
    "targets = [label for _, label in full_dataset.samples]\n",
    "\n",
    "class_names = full_dataset.classes\n",
    "\n",
    "# Stratified Split\n",
    "train_idx, val_idx = train_test_split(\n",
    "    range(len(targets)), test_size=0.2, stratify=targets, random_state=42\n",
    ")\n",
    "\n",
    "# Subset + transform 각각 적용\n",
    "train_dataset = Subset(DatasetClass(train_root, transform=train_transform), train_idx)\n",
    "val_dataset = Subset(DatasetClass(train_root, transform=val_transform), val_idx)\n",
    "print(f'train 이미지 수: {len(train_dataset)}, valid 이미지 수: {len(val_dataset)}')\n",
    "\n",
    "\n",
    "# DataLoader 정의\n",
    "train_loader = DataLoader(train_dataset, batch_size=cfg['BATCH_SIZE'], shuffle=True, num_workers=os.cpu_count() // 2, pin_memory=True, persistent_workers=True)\n",
    "val_loader = DataLoader(val_dataset, batch_size=cfg['BATCH_SIZE'], shuffle=False, num_workers=os.cpu_count() // 2, pin_memory=True, persistent_workers=True)"
   ]
  },
  {
   "cell_type": "markdown",
   "metadata": {},
   "source": [
    "# Train/ Validation"
   ]
  },
  {
   "cell_type": "code",
   "execution_count": 6,
   "metadata": {},
   "outputs": [
    {
     "name": "stderr",
     "output_type": "stream",
     "text": [
      "c:\\Users\\fkjy1\\anaconda3\\envs\\hai\\Lib\\site-packages\\torchvision\\models\\_utils.py:208: UserWarning: The parameter 'pretrained' is deprecated since 0.13 and may be removed in the future, please use 'weights' instead.\n",
      "  warnings.warn(\n",
      "c:\\Users\\fkjy1\\anaconda3\\envs\\hai\\Lib\\site-packages\\torchvision\\models\\_utils.py:223: UserWarning: Arguments other than a weight enum or `None` for 'weights' are deprecated since 0.13 and may be removed in the future. The current behavior is equivalent to passing `weights=ResNet18_Weights.IMAGENET1K_V1`. You can also use `weights=ResNet18_Weights.DEFAULT` to get the most up-to-date weights.\n",
      "  warnings.warn(msg)\n",
      "Epoch [1/1], Train Loss: 5.1059: 100%|██████████| 415/415 [01:32<00:00,  4.51it/s]\n",
      "Epoch [1/1], Valid Loss: 4.0765: 100%|██████████| 104/104 [00:43<00:00,  2.40it/s]\n",
      "c:\\Users\\fkjy1\\anaconda3\\envs\\hai\\Lib\\site-packages\\sklearn\\metrics\\_classification.py:3001: UserWarning: The y_pred values do not sum to one. Make sure to pass probabilities.\n",
      "  warnings.warn(\n"
     ]
    },
    {
     "name": "stdout",
     "output_type": "stream",
     "text": [
      "  ✅ Validation loss improved. Saving model...\n",
      "Epoch [1/1], Train Loss: 5.4127, Train Accuracy: 0.0683 Valid Loss: 4.0421, Valid Accuracy: 0.2526\n"
     ]
    }
   ],
   "source": [
    "model = ModelClass(num_classes=len(class_names)).to(device)\n",
    "# best_logloss = float('inf')\n",
    "\n",
    "early_stopping = EarlyStopping(patience=cfg['patience'], verbose=True, save_path=f'{output_root}/checkpoint.pth')\n",
    "\n",
    "# 손실 함수\n",
    "criterion = nn.CrossEntropyLoss()\n",
    "\n",
    "# 옵티마이저\n",
    "optimizer = optim.Adam(model.parameters(), lr=cfg['LEARNING_RATE'], weight_decay=0)\n",
    "\n",
    "# 스케쥴러\n",
    "Scheduler = get_scheduler(cfg_scheduler['name'], optimizer, cfg_scheduler['params'])\n",
    "\n",
    "model, valid_max_accuracy = training_loop(model, train_loader, val_loader, train_dataset, val_dataset, criterion, optimizer, device, cfg['EPOCHS'], early_stopping, class_names)\n",
    "\n",
    "# # 학습 및 검증 루프\n",
    "# for epoch in range(cfg['EPOCHS']):\n",
    "    \n",
    "#     model, train_loss, train_accuracy = training(model, train_loader, train_dataset, criterion, optimizer, device, epoch, cfg['EPOCHS'])\n",
    "    \n",
    "#     model, valid_loss, valid_accuracy, val_logloss = evaluation(model, val_loader, val_dataset, criterion, device, epoch, cfg['EPOCHS'], class_names)\n",
    "\n",
    "#     # 결과 출력\n",
    "#     print(f\"Train Loss : {train_loss:.4f} || Valid Loss : {valid_loss:.4f} | Valid Accuracy : {valid_accuracy:.4f}%\")\n",
    "\n",
    "#     # Best model 저장\n",
    "#     if val_logloss < best_logloss:\n",
    "#         best_logloss = val_logloss\n",
    "#         torch.save(model.state_dict(), f'{output_root}/best_model.pth')\n",
    "#         print(f\"📦 Best model saved at epoch {epoch+1} (logloss: {val_logloss:.4f})\")"
   ]
  },
  {
   "cell_type": "markdown",
   "metadata": {},
   "source": [
    "# Inference"
   ]
  },
  {
   "cell_type": "code",
   "execution_count": null,
   "metadata": {},
   "outputs": [],
   "source": [
    "test_dataset = DatasetClass(test_root, transform=val_transform, is_test=True)\n",
    "test_loader = DataLoader(test_dataset, batch_size=cfg['BATCH_SIZE'], shuffle=False)"
   ]
  },
  {
   "cell_type": "code",
   "execution_count": 9,
   "metadata": {},
   "outputs": [],
   "source": [
    "# 저장된 모델 로드\n",
    "model = ModelClass(num_classes=len(class_names))\n",
    "model.load_state_dict(torch.load('best_model.pth', map_location=device))\n",
    "model.to(device)\n",
    "\n",
    "# 추론\n",
    "model.eval()\n",
    "results = []\n",
    "\n",
    "with torch.no_grad():\n",
    "    for images in test_loader:\n",
    "        images = images.to(device)\n",
    "        outputs = model(images)\n",
    "        probs = F.softmax(outputs, dim=1)\n",
    "\n",
    "        # 각 배치의 확률을 리스트로 변환\n",
    "        for prob in probs.cpu():  # prob: (num_classes,)\n",
    "            result = {\n",
    "                class_names[i]: prob[i].item()\n",
    "                for i in range(len(class_names))\n",
    "            }\n",
    "            results.append(result)\n",
    "            \n",
    "pred = pd.DataFrame(results)"
   ]
  },
  {
   "cell_type": "markdown",
   "metadata": {},
   "source": [
    "# Submission"
   ]
  },
  {
   "cell_type": "code",
   "execution_count": 10,
   "metadata": {},
   "outputs": [],
   "source": [
    "submission = pd.read_csv(f'{data_path}/sample_submission.csv', encoding='utf-8-sig')\n",
    "\n",
    "# 'ID' 컬럼을 제외한 클래스 컬럼 정렬\n",
    "class_columns = submission.columns[1:]\n",
    "pred = pred[class_columns]\n",
    "\n",
    "submission[class_columns] = pred.values\n",
    "submission.to_csv('baseline_submission.csv', index=False, encoding='utf-8-sig')"
   ]
  },
  {
   "cell_type": "code",
   "execution_count": null,
   "metadata": {},
   "outputs": [],
   "source": []
  }
 ],
 "metadata": {
  "kernelspec": {
   "display_name": "hai",
   "language": "python",
   "name": "python3"
  },
  "language_info": {
   "codemirror_mode": {
    "name": "ipython",
    "version": 3
   },
   "file_extension": ".py",
   "mimetype": "text/x-python",
   "name": "python",
   "nbconvert_exporter": "python",
   "pygments_lexer": "ipython3",
   "version": "3.11.11"
  }
 },
 "nbformat": 4,
 "nbformat_minor": 2
}
